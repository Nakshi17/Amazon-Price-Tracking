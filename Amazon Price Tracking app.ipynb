{
 "cells": [
  {
   "cell_type": "code",
   "execution_count": 1,
   "id": "f1f50f02",
   "metadata": {},
   "outputs": [],
   "source": [
    "import requests\n",
    "from bs4 import BeautifulSoup as BS\n",
    "from smtplib import SMTP"
   ]
  },
  {
   "cell_type": "code",
   "execution_count": 2,
   "id": "cd92b0d7",
   "metadata": {},
   "outputs": [],
   "source": [
    "url=\"https://www.amazon.in/Lenovo-ThinkPad-Performance-Integrated-Graphics/dp/B08X2NF5KL/ref=sr_1_4?crid=2IG40Q5DYHTPZ&keywords=laptop&nav_sdd=aps&qid=1685751828&refinements=p_36%3A7252028031&rnid=7252027031&s=computers&sprefix=lap&sr=1-4\""
   ]
  },
  {
   "cell_type": "code",
   "execution_count": 3,
   "id": "4f557960",
   "metadata": {},
   "outputs": [],
   "source": [
    "def ex_p():\n",
    "    page=requests.get(url,headers={\"User-Agent\":\"Mozilla/5.0 (Windows NT 10.0; Win64; x64) AppleWebKit/537.36 (KHTML, like Gecko) Chrome/113.0.0.0 Safari/537.36\"})\n",
    "    s=BS(page.content,\"html.parser\")\n",
    "    price=float(s.find(class_=\"a-offscreen\").text.split()[0].replace(\",\",\"\").replace(\"₹\",\"\"))\n",
    "    return price"
   ]
  },
  {
   "cell_type": "code",
   "execution_count": 4,
   "id": "45bc23b2",
   "metadata": {},
   "outputs": [],
   "source": [
    "SMTP_SERVER=\"smtp.gmail.com\"\n",
    "PORT=587\n",
    "email_id=\"nakshimshah@gmail.com\"\n",
    "pwd=\"olejfhcnynncwjmr\""
   ]
  },
  {
   "cell_type": "code",
   "execution_count": 5,
   "id": "a4363110",
   "metadata": {},
   "outputs": [],
   "source": [
    "def notify():\n",
    "    server=SMTP(SMTP_SERVER,PORT)\n",
    "    server.starttls()\n",
    "    server.login(email_id,pwd)\n",
    "    subject=\"BUYYY!!\"\n",
    "    body=\"price has fallen,buy now:\"+url\n",
    "    msg=f\"Subject:{subject}\\n\\n{body}\"\n",
    "\n",
    "    server.sendmail(email_id,\"nakshimshah@gmail.com\",msg)\n",
    "    server.quit()"
   ]
  },
  {
   "cell_type": "code",
   "execution_count": 6,
   "id": "82c67689",
   "metadata": {},
   "outputs": [],
   "source": [
    "afford=20000"
   ]
  },
  {
   "cell_type": "code",
   "execution_count": 7,
   "id": "b0a3ae1e",
   "metadata": {},
   "outputs": [],
   "source": [
    "if ex_p()<=afford:\n",
    "    notify()"
   ]
  },
  {
   "cell_type": "code",
   "execution_count": null,
   "id": "4b4406ae",
   "metadata": {},
   "outputs": [],
   "source": []
  }
 ],
 "metadata": {
  "kernelspec": {
   "display_name": "Python 3 (ipykernel)",
   "language": "python",
   "name": "python3"
  },
  "language_info": {
   "codemirror_mode": {
    "name": "ipython",
    "version": 3
   },
   "file_extension": ".py",
   "mimetype": "text/x-python",
   "name": "python",
   "nbconvert_exporter": "python",
   "pygments_lexer": "ipython3",
   "version": "3.9.12"
  }
 },
 "nbformat": 4,
 "nbformat_minor": 5
}
